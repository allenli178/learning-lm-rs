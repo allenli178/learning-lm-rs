{
 "cells": [
  {
   "cell_type": "code",
   "execution_count": 8,
   "metadata": {},
   "outputs": [],
   "source": [
    "from safetensors import safe_open"
   ]
  },
  {
   "cell_type": "code",
   "execution_count": 11,
   "metadata": {},
   "outputs": [
    {
     "name": "stdout",
     "output_type": "stream",
     "text": [
      "lm_head.weight torch.Size([2048, 128])\n",
      "model.layers.0.input_layernorm.weight torch.Size([128])\n",
      "model.layers.0.mlp.down_proj.weight torch.Size([128, 384])\n",
      "model.layers.0.mlp.gate_proj.weight torch.Size([384, 128])\n",
      "model.layers.0.mlp.up_proj.weight torch.Size([384, 128])\n",
      "model.layers.0.post_attention_layernorm.weight torch.Size([128])\n",
      "model.layers.0.self_attn.k_proj.weight torch.Size([64, 128])\n",
      "model.layers.0.self_attn.o_proj.weight torch.Size([128, 128])\n",
      "model.layers.0.self_attn.q_proj.weight torch.Size([128, 128])\n",
      "model.layers.0.self_attn.v_proj.weight torch.Size([64, 128])\n",
      "model.layers.1.input_layernorm.weight torch.Size([128])\n",
      "model.layers.1.mlp.down_proj.weight torch.Size([128, 384])\n",
      "model.layers.1.mlp.gate_proj.weight torch.Size([384, 128])\n",
      "model.layers.1.mlp.up_proj.weight torch.Size([384, 128])\n",
      "model.layers.1.post_attention_layernorm.weight torch.Size([128])\n",
      "model.layers.1.self_attn.k_proj.weight torch.Size([64, 128])\n",
      "model.layers.1.self_attn.o_proj.weight torch.Size([128, 128])\n",
      "model.layers.1.self_attn.q_proj.weight torch.Size([128, 128])\n",
      "model.layers.1.self_attn.v_proj.weight torch.Size([64, 128])\n",
      "model.norm.weight torch.Size([128])\n"
     ]
    }
   ],
   "source": [
    "tensors = {}\n",
    "with safe_open('../learning-lm-rs/models/story/model.safetensors',framework='pt',device='cpu') as f:\n",
    "    for key in f.keys():\n",
    "        print(key,f.get_tensor(key).shape)"
   ]
  },
  {
   "cell_type": "code",
   "execution_count": 12,
   "metadata": {},
   "outputs": [
    {
     "name": "stdout",
     "output_type": "stream",
     "text": [
      "torch.Size([384, 128])\n"
     ]
    }
   ],
   "source": [
    "with safe_open('../learning-lm-rs/models/story/model.safetensors',framework='pt',device='cpu') as f:\n",
    "    for key in f.keys():\n",
    "        tensors[key] = f.get_tensor(key)\n",
    "print(tensors['model.layers.0.mlp.up_proj.weight'].shape)"
   ]
  },
  {
   "cell_type": "code",
   "execution_count": 21,
   "metadata": {},
   "outputs": [
    {
     "data": {
      "text/plain": [
       "tensor([-0.6836, -0.0259,  0.5898, -0.1689,  0.3477,  0.8203,  0.6445, -0.5391,\n",
       "        -0.0898,  0.5430,  0.4766, -0.6797,  0.2168, -0.2676, -0.3477,  0.6094,\n",
       "         0.8047, -0.2871,  0.4062, -0.6328,  0.2305, -0.2188, -0.2852, -0.4395,\n",
       "         0.5312,  0.3320,  0.2314, -0.0304, -0.9648,  0.3223,  0.6523,  0.2393,\n",
       "         0.8242,  1.0625,  0.2539, -0.0781,  0.0044, -0.1494, -0.4785, -0.1797,\n",
       "         0.3145, -0.3750, -0.6484,  1.0156,  0.2715, -0.2344, -0.1021,  0.4375,\n",
       "         0.4180, -0.2041,  0.1445,  0.0148,  0.2305,  0.5547,  0.0342,  0.2109,\n",
       "        -0.1475, -1.1094, -0.5078,  0.3477,  0.7969, -0.3848,  0.3320, -0.2891,\n",
       "         0.2197,  0.4180,  0.0058,  0.4824, -0.0952, -0.6992,  0.2969, -0.7617,\n",
       "        -0.3574, -0.7891, -0.2773, -0.8008,  0.7109,  0.2500, -0.5547,  0.5352,\n",
       "         0.6094, -0.1187,  0.0052,  0.9062, -0.4473, -0.4668,  0.3926, -0.0569,\n",
       "        -0.9219,  1.2500,  0.3125, -0.0376, -0.4844, -0.1934,  0.3457,  0.1836,\n",
       "        -0.0334,  0.0469, -1.0156,  0.1436, -0.3359,  0.0317, -0.2227,  0.0659,\n",
       "         0.2031,  0.1943,  0.4863, -1.0547,  0.1943, -0.5117, -0.2061,  0.3438,\n",
       "         0.2188,  0.1191, -0.0684, -0.5547,  0.7734,  0.6914, -0.3789,  0.7109,\n",
       "        -0.1030, -0.4277,  0.8477,  0.3418, -0.5195,  0.2139,  0.9414,  0.6211])"
      ]
     },
     "execution_count": 21,
     "metadata": {},
     "output_type": "execute_result"
    }
   ],
   "source": [
    "tensors['lm_head.weight'][0][...]"
   ]
  },
  {
   "cell_type": "code",
   "execution_count": 22,
   "metadata": {},
   "outputs": [
    {
     "ename": "SafetensorError",
     "evalue": "File does not contain tensor embedding",
     "output_type": "error",
     "traceback": [
      "\u001b[0;31m---------------------------------------------------------------------------\u001b[0m",
      "\u001b[0;31mSafetensorError\u001b[0m                           Traceback (most recent call last)",
      "\u001b[1;32m/Users/liyuyan/codeRepo/GitHub/learning-lm-rs/demo.ipynb Cell 5\u001b[0m line \u001b[0;36m2\n\u001b[1;32m      <a href='vscode-notebook-cell:/Users/liyuyan/codeRepo/GitHub/learning-lm-rs/demo.ipynb#W4sZmlsZQ%3D%3D?line=0'>1</a>\u001b[0m \u001b[39mwith\u001b[39;00m safe_open(\u001b[39m'\u001b[39m\u001b[39m../learning-lm-rs/models/story/model.safetensors\u001b[39m\u001b[39m'\u001b[39m,framework\u001b[39m=\u001b[39m\u001b[39m'\u001b[39m\u001b[39mpt\u001b[39m\u001b[39m'\u001b[39m,device\u001b[39m=\u001b[39m\u001b[39m'\u001b[39m\u001b[39mcpu\u001b[39m\u001b[39m'\u001b[39m) \u001b[39mas\u001b[39;00m f:\n\u001b[0;32m----> <a href='vscode-notebook-cell:/Users/liyuyan/codeRepo/GitHub/learning-lm-rs/demo.ipynb#W4sZmlsZQ%3D%3D?line=1'>2</a>\u001b[0m     t \u001b[39m=\u001b[39m f\u001b[39m.\u001b[39;49mget_slice(\u001b[39m\"\u001b[39;49m\u001b[39membedding\u001b[39;49m\u001b[39m\"\u001b[39;49m)\n\u001b[1;32m      <a href='vscode-notebook-cell:/Users/liyuyan/codeRepo/GitHub/learning-lm-rs/demo.ipynb#W4sZmlsZQ%3D%3D?line=2'>3</a>\u001b[0m     \u001b[39mprint\u001b[39m(t)\n",
      "\u001b[0;31mSafetensorError\u001b[0m: File does not contain tensor embedding"
     ]
    }
   ],
   "source": [
    "with safe_open('../learning-lm-rs/models/story/model.safetensors',framework='pt',device='cpu') as f:\n",
    "    t = f.get_slice(\"embedding\")\n",
    "    print(t)"
   ]
  },
  {
   "cell_type": "code",
   "execution_count": null,
   "metadata": {},
   "outputs": [],
   "source": []
  }
 ],
 "metadata": {
  "kernelspec": {
   "display_name": "ms_39",
   "language": "python",
   "name": "python3"
  },
  "language_info": {
   "codemirror_mode": {
    "name": "ipython",
    "version": 3
   },
   "file_extension": ".py",
   "mimetype": "text/x-python",
   "name": "python",
   "nbconvert_exporter": "python",
   "pygments_lexer": "ipython3",
   "version": "3.9.7"
  }
 },
 "nbformat": 4,
 "nbformat_minor": 2
}
